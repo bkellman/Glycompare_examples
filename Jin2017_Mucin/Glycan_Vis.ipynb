{
 "cells": [
  {
   "cell_type": "code",
   "execution_count": 26,
   "metadata": {},
   "outputs": [],
   "source": [
    "import glypy\n",
    "from glypy import plot\n",
    "\n",
    "\n",
    "import os\n",
    "import matplotlib\n",
    "matplotlib.use(\"Agg\")\n",
    "from matplotlib import pyplot as plt"
   ]
  },
  {
   "cell_type": "code",
   "execution_count": 28,
   "metadata": {},
   "outputs": [],
   "source": [
    "motifs=[\"?-D-Glcx2NAc-(1-?)-?-D-Galx-(1-?)-b-D-Glcx2NAc\",\n",
    "\"?-D-Galx-(1-?)-?-D-Glcx2NAc-(1-?)-?-D-Galx\",\n",
    "\"?-D-Galx-(1-?)-?-D-Glcx2NAc-(1-?)-b-D-Galx-(1-3)-?-D-Galx2NAc\",\n",
    "\"b-D-Glcx2NAc-(1-6)-[?-D-Galx-(1-?)-?-D-Glcx2NAc-(1-?)-b-D-Galx-(1-3)]?-D-Galx2NAc\",\n",
    "\"a-L-Fucx-(1-2)-?-D-Galx-(1-?)-?-D-Glcx2NAc-(1-?)-[?-D-Galx-(1-?)-?-D-Glcx2NAc-(1-?)]b-D-Galx\",\n",
    "\"?-D-Galx-(1-?)-?-D-Glcx2NAc-(1-?)-[?-D-Galx-(1-?)-?-D-Glcx2NAc-(1-?)]b-D-Galx-(1-3)-?-D-Galx2NAc\",\n",
    "\"b-D-Galx-(1-4)-b-D-Glcx2NAc-(1-6)-[?-L-Fucx-(1-?)-?-D-Glcx2NAc-(1-?)-b-D-Galx-(1-3)]?-D-Galx2NAc\",\n",
    "\"a-L-Fucx-(1-2)-?-D-Galx-(1-?)-?-D-Glcx2NAc-(1-?)-[?-D-Galx-(1-?)-?-D-Glcx2NAc-(1-?)]b-D-Galx-(1-3)-?-D-Galx2NAc\"]\n",
    "\n",
    "\n",
    "\n",
    "for m in motifs:\n",
    "    plt.figure()\n",
    "    \n",
    "    glypy.plot.plot(glypy.io.iupac.loads(m),label=True) \n",
    "    \n",
    "    plt.savefig('glycans/'+m+'.pdf')\n",
    "    plt.clf()\n",
    "    plt.close('all')\n",
    "\n",
    "# glypy.plot.plot(glypy.io.iupac.loads(motifs[2]),label=True, orientation='h',\n",
    "#            layout='topological')"
   ]
  }
 ],
 "metadata": {
  "kernelspec": {
   "display_name": "Python 3",
   "language": "python",
   "name": "python3"
  },
  "language_info": {
   "codemirror_mode": {
    "name": "ipython",
    "version": 3
   },
   "file_extension": ".py",
   "mimetype": "text/x-python",
   "name": "python",
   "nbconvert_exporter": "python",
   "pygments_lexer": "ipython3",
   "version": "3.7.4"
  }
 },
 "nbformat": 4,
 "nbformat_minor": 4
}
