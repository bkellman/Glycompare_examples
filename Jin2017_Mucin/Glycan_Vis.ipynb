{
 "cells": [
  {
   "cell_type": "code",
   "execution_count": 1,
   "metadata": {},
   "outputs": [
    {
     "ename": "ModuleNotFoundError",
     "evalue": "No module named 'pandas'",
     "output_type": "error",
     "traceback": [
      "\u001b[0;31m---------------------------------------------------------------------------\u001b[0m",
      "\u001b[0;31mModuleNotFoundError\u001b[0m                       Traceback (most recent call last)",
      "\u001b[0;32m<ipython-input-1-9230240b1bfe>\u001b[0m in \u001b[0;36m<module>\u001b[0;34m\u001b[0m\n\u001b[1;32m      2\u001b[0m \u001b[0;32mfrom\u001b[0m \u001b[0mglypy\u001b[0m \u001b[0;32mimport\u001b[0m \u001b[0mplot\u001b[0m\u001b[0;34m\u001b[0m\u001b[0;34m\u001b[0m\u001b[0m\n\u001b[1;32m      3\u001b[0m \u001b[0;34m\u001b[0m\u001b[0m\n\u001b[0;32m----> 4\u001b[0;31m \u001b[0;32mimport\u001b[0m \u001b[0mpandas\u001b[0m \u001b[0;32mas\u001b[0m \u001b[0mpd\u001b[0m\u001b[0;34m\u001b[0m\u001b[0;34m\u001b[0m\u001b[0m\n\u001b[0m\u001b[1;32m      5\u001b[0m \u001b[0;34m\u001b[0m\u001b[0m\n\u001b[1;32m      6\u001b[0m \u001b[0;34m\u001b[0m\u001b[0m\n",
      "\u001b[0;31mModuleNotFoundError\u001b[0m: No module named 'pandas'"
     ]
    }
   ],
   "source": [
    "import glypy\n",
    "from glypy import plot\n",
    "\n",
    "#import pandas as pd\n",
    "\n",
    "\n",
    "import os\n",
    "import matplotlib\n",
    "matplotlib.use(\"Agg\")\n",
    "from matplotlib import pyplot as plt"
   ]
  },
  {
   "cell_type": "code",
   "execution_count": 3,
   "metadata": {},
   "outputs": [
    {
     "ename": "NameError",
     "evalue": "name 'pd' is not defined",
     "output_type": "error",
     "traceback": [
      "\u001b[0;31m---------------------------------------------------------------------------\u001b[0m",
      "\u001b[0;31mNameError\u001b[0m                                 Traceback (most recent call last)",
      "\u001b[0;32m<ipython-input-3-23f109e98506>\u001b[0m in \u001b[0;36m<module>\u001b[0;34m\u001b[0m\n\u001b[0;32m----> 1\u001b[0;31m \u001b[0mr\u001b[0m \u001b[0;34m=\u001b[0m \u001b[0mpd\u001b[0m\u001b[0;34m.\u001b[0m\u001b[0mread_csv\u001b[0m\u001b[0;34m(\u001b[0m\u001b[0;34m'data-in/structural/paper_mcp_variable_annotation.csv'\u001b[0m\u001b[0;34m)\u001b[0m\u001b[0;34m[\u001b[0m\u001b[0;34m'Glycan Structure'\u001b[0m\u001b[0;34m]\u001b[0m\u001b[0;34m\u001b[0m\u001b[0;34m\u001b[0m\u001b[0m\n\u001b[0m",
      "\u001b[0;31mNameError\u001b[0m: name 'pd' is not defined"
     ]
    }
   ],
   "source": [
    "r = pd.read_csv('data-in/structural/paper_mcp_variable_annotation.csv')['Glycan Structure']"
   ]
  },
  {
   "cell_type": "code",
   "execution_count": null,
   "metadata": {},
   "outputs": [],
   "source": [
    "g=r['Supposed structures [a]'][0].replace('β','b')\n",
    "glypy.io.iupac.loads(g)"
   ]
  },
  {
   "cell_type": "code",
   "execution_count": null,
   "metadata": {},
   "outputs": [],
   "source": [
    "i = 0\n",
    "for m in r:\n",
    "    print(m)\n",
    "    g = glypy.io.glycoct.loads(m)\n",
    "    glypy.plot.plot(g,label=True) "
   ]
  },
  {
   "cell_type": "code",
   "execution_count": null,
   "metadata": {},
   "outputs": [],
   "source": [
    "# motifs=[\"?-D-Glcx2NAc-(1-?)-?-D-Galx-(1-?)-b-D-Glcx2NAc\",\n",
    "# \"?-D-Galx-(1-?)-?-D-Glcx2NAc-(1-?)-?-D-Galx\",\n",
    "# \"?-D-Galx-(1-?)-?-D-Glcx2NAc-(1-?)-b-D-Galx-(1-3)-?-D-Galx2NAc\",\n",
    "# \"b-D-Glcx2NAc-(1-6)-[?-D-Galx-(1-?)-?-D-Glcx2NAc-(1-?)-b-D-Galx-(1-3)]?-D-Galx2NAc\",\n",
    "# \"a-L-Fucx-(1-2)-?-D-Galx-(1-?)-?-D-Glcx2NAc-(1-?)-[?-D-Galx-(1-?)-?-D-Glcx2NAc-(1-?)]b-D-Galx\",\n",
    "# \"?-D-Galx-(1-?)-?-D-Glcx2NAc-(1-?)-[?-D-Galx-(1-?)-?-D-Glcx2NAc-(1-?)]b-D-Galx-(1-3)-?-D-Galx2NAc\",\n",
    "# \"b-D-Galx-(1-4)-b-D-Glcx2NAc-(1-6)-[?-L-Fucx-(1-?)-?-D-Glcx2NAc-(1-?)-b-D-Galx-(1-3)]?-D-Galx2NAc\",\n",
    "# \"a-L-Fucx-(1-2)-?-D-Galx-(1-?)-?-D-Glcx2NAc-(1-?)-[?-D-Galx-(1-?)-?-D-Glcx2NAc-(1-?)]b-D-Galx-(1-3)-?-D-Galx2NAc\"]\n",
    "\n",
    "# motifs=[\"?-L-Fucx-(1-?)-b-D-Glcx2NAc\",\n",
    "# \"?-D-Glcx2NAc-(1-?)-?-D-Galx-(1-?)-b-D-Glcx2NAc\",\n",
    "# \"?-D-Galx-(1-?)-?-D-Glcx2NAc-(1-?)-b-D-Galx-(1-3)-?-D-Galx2NAc\",\n",
    "# \"?-D-Galx-(1-?)-?-D-Glcx2NAc-(1-?)-[?-D-Galx-(1-?)-?-D-Glcx2NAc-(1-?)]b-D-Galx-(1-3)-?-D-Galx2NAc\",\n",
    "# \"a-L-Fucx-(1-2)-?-D-Galx-(1-?)-?-D-Glcx2NAc-(1-?)-[?-D-Galx-(1-?)-?-D-Glcx2NAc-(1-?)]b-D-Galx-(1-3)-?-D-Galx2NAc\"]\n",
    "\n",
    "### initial\n",
    "motifs=[\"b-D-Glcx2NAc-(1-6)-[?-D-Galx-(1-?)-?-D-Glcx2NAc-(1-?)-b-D-Galx-(1-3)]?-D-Galx2NAc\",\n",
    "\"b-D-Glcx2NAc-(1-6)-[?-L-Fucx-(1-?)-?-D-Glcx2NAc-(1-?)-b-D-Galx-(1-3)]?-D-Galx2NAc\",\n",
    "\"b-D-Galx-(1-4)-b-D-Glcx2NAc-(1-6)-[?-L-Fucx-(1-?)-?-D-Glcx2NAc-(1-?)-b-D-Galx-(1-3)]?-D-Galx2NAc\",\n",
    "\"b-D-Glcx2NAc-(1-6)-[?-D-Galx-(1-?)-?-D-Glcx2NAc-(1-?)-[?-D-Galx-(1-?)-?-D-Glcx2NAc-(1-?)]b-D-Galx-(1-3)]?-D-Galx2NAc\",\n",
    "\"b-D-Glcx2NAc-(1-6)-[a-L-Fucx-(1-2)-?-D-Galx-(1-?)-?-D-Glcx2NAc-(1-?)-[?-D-Galx-(1-?)-?-D-Glcx2NAc-(1-?)]b-D-Galx-(1-3)]?-D-Galx2NAc\"]\n",
    "\n",
    "i = 0\n",
    "for m in motifs:\n",
    "   glypy.plot.plot(glypy.io.iupac.loads(m),label=True) \n",
    "\n",
    "for m in motifs:\n",
    "    plt.figure()\n",
    "    glypy.plot.plot(glypy.io.iupac.loads(m),label=True) \n",
    "    plt.savefig('glycans/'+str(i)+'.pdf')\n",
    "    plt.clf()\n",
    "    plt.close('all')\n",
    "    i+=1\n",
    "\n",
    "### new\n",
    "motifs=[\"?-D-Galx-(1-?)-?-D-Glcx2NAc-(1-?)-b-D-Galx-(1-3)-?-D-Galx2NAc\",\n",
    "\"?-L-Fucx-(1-?)-?-D-Glcx2NAc-(1-?)-b-D-Galx-(1-3)-?-D-Galx2NAc\",\n",
    "\"b-D-Glcx2NAc-(1-6)-[?-D-Galx-(1-?)-?-D-Glcx2NAc-(1-?)-b-D-Galx-(1-3)]?-D-Galx2NAc\",\n",
    "\"b-D-Glcx2NAc-(1-6)-[?-L-Fucx-(1-?)-?-D-Glcx2NAc-(1-?)-b-D-Galx-(1-3)]?-D-Galx2NAc\",\n",
    "\"?-D-Galx-(1-?)-?-D-Glcx2NAc-(1-?)-[?-D-Galx-(1-?)-?-D-Glcx2NAc-(1-?)]b-D-Galx-(1-3)-?-D-Galx2NAc\",\n",
    "\"b-D-Galx-(1-4)-b-D-Glcx2NAc-(1-6)-[?-L-Fucx-(1-?)-?-D-Glcx2NAc-(1-?)-b-D-Galx-(1-3)]?-D-Galx2NAc\",\n",
    "\"a-L-Fucx-(1-2)-?-D-Galx-(1-?)-?-D-Glcx2NAc-(1-?)-[?-D-Galx-(1-?)-?-D-Glcx2NAc-(1-?)]b-D-Galx-(1-3)-?-D-Galx2NAc\",\n",
    "\"b-D-Glcx2NAc-(1-6)-[?-D-Galx-(1-?)-?-D-Glcx2NAc-(1-?)-[?-D-Galx-(1-?)-?-D-Glcx2NAc-(1-?)]b-D-Galx-(1-3)]?-D-Galx2NAc\",\n",
    "\"b-D-Glcx2NAc-(1-6)-[a-L-Fucx-(1-2)-?-D-Galx-(1-?)-?-D-Glcx2NAc-(1-?)-[?-D-Galx-(1-?)-?-D-Glcx2NAc-(1-?)]b-D-Galx-(1-3)]?-D-Galx2NAc\"]\n",
    "\n",
    "i = 0\n",
    "for m in motifs:\n",
    "   glypy.plot.plot(glypy.io.iupac.loads(m),label=True) \n",
    "\n",
    "for m in motifs:\n",
    "    plt.figure()\n",
    "    glypy.plot.plot(glypy.io.iupac.loads(m),label=True) \n",
    "    plt.savefig('glycans/new'+str(i)+'.pdf')\n",
    "    plt.clf()\n",
    "    plt.close('all')\n",
    "    i+=1\n",
    "\n",
    "# glypy.plot.plot(glypy.io.iupac.loads(motifs[2]),label=True, orientation='h',\n",
    "#            layout='topological')"
   ]
  },
  {
   "cell_type": "code",
   "execution_count": null,
   "metadata": {},
   "outputs": [],
   "source": []
  }
 ],
 "metadata": {
  "kernelspec": {
   "display_name": "Python 2",
   "language": "python",
   "name": "python2"
  },
  "language_info": {
   "codemirror_mode": {
    "name": "ipython",
    "version": 3
   },
   "file_extension": ".py",
   "mimetype": "text/x-python",
   "name": "python",
   "nbconvert_exporter": "python",
   "pygments_lexer": "ipython3",
   "version": "3.6.9"
  }
 },
 "nbformat": 4,
 "nbformat_minor": 4
}
