{
 "cells": [
  {
   "cell_type": "code",
   "execution_count": 8,
   "metadata": {},
   "outputs": [],
   "source": [
    "import numpy as np\n",
    "gly = ['Fucα1,2Galβ1,4GlcNAcβ1,6(Fucα1,2)(S)Galβ1,3GalNA',\n",
    "       'Fucα1,2Galβ1,3(Fucα1,2Galβ1,4(S)GlcNAcβ1,6)GalNA','Fucα1,2Galβ1,3(NeuAcα2,6)GalNA',\n",
    "       'GalNAcα1,3(Fucα1,2)Galβ1,3[GalNAcα1,3(Fucα1,2)Gal-(Fuc-)GlcNAcβ1,6]GalNA',\n",
    "       'Fucα1,2Galβ1,3(GlcNAcβ1,6)GalNA']"
   ]
  },
  {
   "cell_type": "code",
   "execution_count": 4,
   "metadata": {},
   "outputs": [],
   "source": [
    "import glypy\n",
    "from glypy import plot\n",
    "\n",
    "# import pandas as pd\n",
    "\n",
    "\n",
    "import os\n",
    "import matplotlib\n",
    "# matplotlib.use(\"Agg\")\n",
    "\n",
    "# from matplotlib import pyplot as plt"
   ]
  },
  {
   "cell_type": "code",
   "execution_count": 17,
   "metadata": {},
   "outputs": [],
   "source": [
    "# g=[i.replace('β','b').replace('α','a') for i in gly]\n",
    "# g\n",
    "g=glypy.io.iupac.loads('a-D-Glcx2NAc-(1-4)-?-D-Galx-(1-?)-b-D-Glcx2NAc-(1-6)-[a-D-Glcx2NAc-(1-4)-?-D-Galx-(1-?)-b-D-Glcx2NAc-(1-6)-[?-D-Galx-(1-?)-[?-L-Fucx-(1-?)]b-D-Glcx2NAc-(1-3)]b-D-Galx-(1-3)]?-D-Galx2NAc')"
   ]
  },
  {
   "cell_type": "code",
   "execution_count": 19,
   "metadata": {},
   "outputs": [
    {
     "data": {
      "text/plain": [
       "(RES 1b:x-dgal-HEX-x:x 2s:n-acetyl LIN 1:1d(2+1)2n: id=1  x=7.654042494670958e-17 mod=0,\n",
       " <matplotlib.axes._subplots.AxesSubplot at 0x7f496f6897f0>)"
      ]
     },
     "execution_count": 19,
     "metadata": {},
     "output_type": "execute_result"
    },
    {
     "data": {
      "image/png": "[encoded data removed]",
      "text/plain": [
       "<matplotlib.figure.Figure at 0x7f496f6d3da0>"
      ]
     },
     "metadata": {
      "needs_background": "light"
     },
     "output_type": "display_data"
    }
   ],
   "source": [
    "glypy.plot.plot(g)"
   ]
  },
  {
   "cell_type": "code",
   "execution_count": null,
   "metadata": {},
   "outputs": [],
   "source": []
  }
 ],
 "metadata": {
  "kernelspec": {
   "display_name": "Python 3",
   "language": "python",
   "name": "python3"
  },
  "language_info": {
   "codemirror_mode": {
    "name": "ipython",
    "version": 3
   },
   "file_extension": ".py",
   "mimetype": "text/x-python",
   "name": "python",
   "nbconvert_exporter": "python",
   "pygments_lexer": "ipython3",
   "version": "3.6.9"
  }
 },
 "nbformat": 4,
 "nbformat_minor": 2
}
